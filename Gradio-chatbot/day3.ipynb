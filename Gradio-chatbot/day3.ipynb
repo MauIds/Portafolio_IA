{
 "cells": [
  {
   "cell_type": "markdown",
   "id": "75e2ef28-594f-4c18-9d22-c6b8cd40ead2",
   "metadata": {},
   "source": [
    "# Día 3 – IA conversacional – Chatbot !"
   ]
  },
  {
   "cell_type": "code",
   "execution_count": 1,
   "id": "70e39cd8-ec79-4e3e-9c26-5659d42d0861",
   "metadata": {},
   "outputs": [],
   "source": [
    "# imports\n",
    "\n",
    "import os\n",
    "from dotenv import load_dotenv\n",
    "from openai import OpenAI\n",
    "import gradio as gr"
   ]
  },
  {
   "cell_type": "code",
   "execution_count": 2,
   "id": "231605aa-fccb-447e-89cf-8b187444536a",
   "metadata": {},
   "outputs": [],
   "source": [
    "# Cargar variables de entorno en un archivo llamado .env\n",
    "# Imprimir los prefijos de clave para facilitar la depuración\n",
    "\n",
    "load_dotenv()\n",
    "api_key = os.getenv('OPENAI_API_KEY')  # OpenRouter maneja todos los modelos\n",
    "\n",
    "# Usar la misma API key para todas las peticiones\n",
    "openai_api_key = api_key"
   ]
  },
  {
   "cell_type": "code",
   "execution_count": 8,
   "id": "6541d58e-2297-4de1-b1f7-77da1b98b8bb",
   "metadata": {},
   "outputs": [],
   "source": [
    "# Inicializar\n",
    "\n",
    "openai =OpenAI(\n",
    "  base_url=\"https://openrouter.ai/api/v1\",\n",
    "  api_key=openai_api_key\n",
    ")\n",
    "MODEL = \"openai/gpt-4o-mini\""
   ]
  },
  {
   "cell_type": "code",
   "execution_count": 4,
   "id": "e16839b5-c03b-4d9d-add6-87a0f6f37575",
   "metadata": {},
   "outputs": [],
   "source": [
    "system_message = \"Eres un assistente muy útil\""
   ]
  },
  {
   "cell_type": "code",
   "execution_count": 5,
   "id": "1eacc8a4-4b48-4358-9e06-ce0020041bc1",
   "metadata": {},
   "outputs": [],
   "source": [
    "# ¡Ahora es solo una línea de código para preparar la entrada a OpenAI!\n",
    "\n",
    "def chat(message, history):\n",
    "    messages = [{\"role\": \"system\", \"content\": system_message}] + history + [{\"role\": \"user\", \"content\": message}]\n",
    "\n",
    "    print(\"El historial es:\")\n",
    "    print(history)\n",
    "    print(\"Y los mensajes son:\")\n",
    "    print(messages)\n",
    "\n",
    "    stream = openai.chat.completions.create(model=MODEL, messages=messages, stream=True)\n",
    "\n",
    "    response = \"\"\n",
    "    for chunk in stream:\n",
    "        response += chunk.choices[0].delta.content or ''\n",
    "        yield response"
   ]
  },
  {
   "cell_type": "markdown",
   "id": "1334422a-808f-4147-9c4c-57d63d9780d0",
   "metadata": {},
   "source": [
    "## ¡La magia de Gradio!"
   ]
  },
  {
   "cell_type": "code",
   "execution_count": 9,
   "id": "0866ca56-100a-44ab-8bd0-1568feaf6bf2",
   "metadata": {},
   "outputs": [
    {
     "name": "stdout",
     "output_type": "stream",
     "text": [
      "* Running on local URL:  http://127.0.0.1:7862\n",
      "\n",
      "To create a public link, set `share=True` in `launch()`.\n"
     ]
    },
    {
     "data": {
      "text/html": [
       "<div><iframe src=\"http://127.0.0.1:7862/\" width=\"100%\" height=\"500\" allow=\"autoplay; camera; microphone; clipboard-read; clipboard-write;\" frameborder=\"0\" allowfullscreen></iframe></div>"
      ],
      "text/plain": [
       "<IPython.core.display.HTML object>"
      ]
     },
     "metadata": {},
     "output_type": "display_data"
    },
    {
     "data": {
      "text/plain": []
     },
     "execution_count": 9,
     "metadata": {},
     "output_type": "execute_result"
    },
    {
     "name": "stdout",
     "output_type": "stream",
     "text": [
      "El historial es:\n",
      "[]\n",
      "Y los mensajes son:\n",
      "[{'role': 'system', 'content': 'Eres un assistente muy útil'}, {'role': 'user', 'content': 'Hola'}]\n",
      "El historial es:\n",
      "[{'role': 'user', 'metadata': None, 'content': 'Hola', 'options': None}, {'role': 'assistant', 'metadata': None, 'content': '¡Hola! ¿En qué puedo ayudarte hoy?', 'options': None}]\n",
      "Y los mensajes son:\n",
      "[{'role': 'system', 'content': 'Eres un assistente muy útil'}, {'role': 'user', 'metadata': None, 'content': 'Hola', 'options': None}, {'role': 'assistant', 'metadata': None, 'content': '¡Hola! ¿En qué puedo ayudarte hoy?', 'options': None}, {'role': 'user', 'content': 'Quiero aprender sobre los tranformers que guia me recomendarias?'}]\n",
      "El historial es:\n",
      "[{'role': 'user', 'metadata': None, 'content': 'Hola', 'options': None}, {'role': 'assistant', 'metadata': None, 'content': '¡Hola! ¿En qué puedo ayudarte hoy?', 'options': None}, {'role': 'user', 'metadata': None, 'content': 'Quiero aprender sobre los tranformers que guia me recomendarias?', 'options': None}, {'role': 'assistant', 'metadata': None, 'content': '¡Claro! Los Transformers son un tipo de modelo de aprendizaje profundo que ha revolucionado el procesamiento del lenguaje natural y otras áreas. Aquí te dejo una guía de recursos que podrían serte útiles:\\n\\n### Introducción a los Transformers:\\n1. **Artículos Básicos**:\\n   - **\"Attention is All You Need\" (Vaswani et al., 2017)**: Este es el artículo original que introdujo la arquitectura de Transformers. Es un poco técnico, pero te dará una buena base sobre cómo funcionan.\\n   - **Blogs y tutoriales**: Busca blogs que expliquen el modelo en términos sencillos. Un buen punto de partida puede ser el artículo de Jay Alammar titulado \"The Illustrated Transformer\", que visualiza y explica el modelo de forma clara.\\n\\n2. **Cursos en Línea**:\\n   - **Coursera**: El curso \"Natural Language Processing\" de la Universidad de Stanford incluye secciones sobre Transformers.\\n   - **fast.ai**: Ofrecen un curso gratuito con aplicaciones de modelos de aprendizaje profundo, que cubre Transformers en un contexto práctico.\\n\\n### Aprendizaje Práctico:\\n1. **Implementación en Python**:\\n   - **Hugging Face Transformers**: La biblioteca `transformers` de Hugging Face es una de las más populares. Su documentación incluye tutoriales sobre cómo usar modelos preentrenados y entrenar tus propios modelos.\\n   - **Google Colab**: Puedes encontrar muchos notebooks de Colab que implementan Transformers en tareas específicas, como clasificación de texto, generación de texto, traducción, etc.\\n\\n2. **Proyectos**: Considera hacer proyectos prácticos, como construir un chatbot, un modelo de traducción o abordar un problema de análisis de sentimientos usando Transformers.\\n\\n### Recursos Adicionales:\\n- **YouTube**: Busca videos explicativos sobre Transformers. Canales como 3Blue1Brown o Yannic Kilcher tienen contenido muy accesible y útil.\\n- **Libros**: \"Natural Language Processing with Transformers\" de Lewis Tunstall, Leandro von Werra y Thomas Wolf es un libro muy bueno que cubre tanto la teoría como la práctica.\\n\\n### Comunidad y Foros:\\n- **Foros y Grupos**: Únete a comunidades en plataformas como GitHub, Reddit o Discord donde puedas hacer preguntas y compartir experiencias sobre el aprendizaje de Transformers.\\n\\nEstos recursos deberían darte un buen comienzo para aprender sobre Transformers. Si tienes alguna pregunta específica o necesita más detalles sobre algún aspecto, no dudes en preguntar. ¡Buena suerte!', 'options': None}]\n",
      "Y los mensajes son:\n",
      "[{'role': 'system', 'content': 'Eres un assistente muy útil'}, {'role': 'user', 'metadata': None, 'content': 'Hola', 'options': None}, {'role': 'assistant', 'metadata': None, 'content': '¡Hola! ¿En qué puedo ayudarte hoy?', 'options': None}, {'role': 'user', 'metadata': None, 'content': 'Quiero aprender sobre los tranformers que guia me recomendarias?', 'options': None}, {'role': 'assistant', 'metadata': None, 'content': '¡Claro! Los Transformers son un tipo de modelo de aprendizaje profundo que ha revolucionado el procesamiento del lenguaje natural y otras áreas. Aquí te dejo una guía de recursos que podrían serte útiles:\\n\\n### Introducción a los Transformers:\\n1. **Artículos Básicos**:\\n   - **\"Attention is All You Need\" (Vaswani et al., 2017)**: Este es el artículo original que introdujo la arquitectura de Transformers. Es un poco técnico, pero te dará una buena base sobre cómo funcionan.\\n   - **Blogs y tutoriales**: Busca blogs que expliquen el modelo en términos sencillos. Un buen punto de partida puede ser el artículo de Jay Alammar titulado \"The Illustrated Transformer\", que visualiza y explica el modelo de forma clara.\\n\\n2. **Cursos en Línea**:\\n   - **Coursera**: El curso \"Natural Language Processing\" de la Universidad de Stanford incluye secciones sobre Transformers.\\n   - **fast.ai**: Ofrecen un curso gratuito con aplicaciones de modelos de aprendizaje profundo, que cubre Transformers en un contexto práctico.\\n\\n### Aprendizaje Práctico:\\n1. **Implementación en Python**:\\n   - **Hugging Face Transformers**: La biblioteca `transformers` de Hugging Face es una de las más populares. Su documentación incluye tutoriales sobre cómo usar modelos preentrenados y entrenar tus propios modelos.\\n   - **Google Colab**: Puedes encontrar muchos notebooks de Colab que implementan Transformers en tareas específicas, como clasificación de texto, generación de texto, traducción, etc.\\n\\n2. **Proyectos**: Considera hacer proyectos prácticos, como construir un chatbot, un modelo de traducción o abordar un problema de análisis de sentimientos usando Transformers.\\n\\n### Recursos Adicionales:\\n- **YouTube**: Busca videos explicativos sobre Transformers. Canales como 3Blue1Brown o Yannic Kilcher tienen contenido muy accesible y útil.\\n- **Libros**: \"Natural Language Processing with Transformers\" de Lewis Tunstall, Leandro von Werra y Thomas Wolf es un libro muy bueno que cubre tanto la teoría como la práctica.\\n\\n### Comunidad y Foros:\\n- **Foros y Grupos**: Únete a comunidades en plataformas como GitHub, Reddit o Discord donde puedas hacer preguntas y compartir experiencias sobre el aprendizaje de Transformers.\\n\\nEstos recursos deberían darte un buen comienzo para aprender sobre Transformers. Si tienes alguna pregunta específica o necesita más detalles sobre algún aspecto, no dudes en preguntar. ¡Buena suerte!', 'options': None}, {'role': 'user', 'content': 'que es el Algoritmo PCA?'}]\n"
     ]
    }
   ],
   "source": [
    "gr.ChatInterface(fn=chat, type=\"messages\").launch()"
   ]
  },
  {
   "cell_type": "code",
   "execution_count": 10,
   "id": "1f91b414-8bab-472d-b9c9-3fa51259bdfe",
   "metadata": {},
   "outputs": [],
   "source": [
    "system_message = \"Eres un asistente útil en una tienda de ropa. \\\n",
    "Debes tratar de alentar gentilmente al cliente a que pruebe los artículos que están en oferta.\\\n",
    "Los sombreros tienen un 60 % de descuento y la mayoría de los demás artículos tienen un 50 % de descuento. \\\n",
    "Por ejemplo, si el cliente dice 'Quiero comprar un sombrero', \\\n",
    "podrías responder algo como 'Genial, tenemos muchos sombreros, incluidos varios que son parte de nuestro evento de rebajas'. \\\n",
    "Anima al cliente a comprar sombreros si no está seguro de qué comprar.\""
   ]
  },
  {
   "cell_type": "code",
   "execution_count": 11,
   "id": "4e5be3ec-c26c-42bc-ac16-c39d369883f6",
   "metadata": {},
   "outputs": [],
   "source": [
    "def chat(message, history):\n",
    "    messages = [{\"role\": \"system\", \"content\": system_message}] + history + [{\"role\": \"user\", \"content\": message}]\n",
    "\n",
    "    stream = openai.chat.completions.create(model=MODEL, messages=messages, stream=True)\n",
    "\n",
    "    response = \"\"\n",
    "    for chunk in stream:\n",
    "        response += chunk.choices[0].delta.content or ''\n",
    "        yield response"
   ]
  },
  {
   "cell_type": "code",
   "execution_count": 12,
   "id": "413e9e4e-7836-43ac-a0c3-e1ab5ed6b136",
   "metadata": {},
   "outputs": [
    {
     "name": "stdout",
     "output_type": "stream",
     "text": [
      "* Running on local URL:  http://127.0.0.1:7863\n",
      "\n",
      "To create a public link, set `share=True` in `launch()`.\n"
     ]
    },
    {
     "data": {
      "text/html": [
       "<div><iframe src=\"http://127.0.0.1:7863/\" width=\"100%\" height=\"500\" allow=\"autoplay; camera; microphone; clipboard-read; clipboard-write;\" frameborder=\"0\" allowfullscreen></iframe></div>"
      ],
      "text/plain": [
       "<IPython.core.display.HTML object>"
      ]
     },
     "metadata": {},
     "output_type": "display_data"
    },
    {
     "data": {
      "text/plain": []
     },
     "execution_count": 12,
     "metadata": {},
     "output_type": "execute_result"
    }
   ],
   "source": [
    "gr.ChatInterface(fn=chat, type=\"messages\").launch()"
   ]
  },
  {
   "cell_type": "code",
   "execution_count": 13,
   "id": "d75f0ffa-55c8-4152-b451-945021676837",
   "metadata": {},
   "outputs": [],
   "source": [
    "system_message += \"\\nSi el cliente pide zapatos, debes responder que los zapatos no están en oferta hoy, \\\n",
    "¡pero recuérdale al cliente que mire los sombreros!\""
   ]
  },
  {
   "cell_type": "code",
   "execution_count": 14,
   "id": "c602a8dd-2df7-4eb7-b539-4e01865a6351",
   "metadata": {},
   "outputs": [
    {
     "name": "stdout",
     "output_type": "stream",
     "text": [
      "* Running on local URL:  http://127.0.0.1:7864\n",
      "\n",
      "To create a public link, set `share=True` in `launch()`.\n"
     ]
    },
    {
     "data": {
      "text/html": [
       "<div><iframe src=\"http://127.0.0.1:7864/\" width=\"100%\" height=\"500\" allow=\"autoplay; camera; microphone; clipboard-read; clipboard-write;\" frameborder=\"0\" allowfullscreen></iframe></div>"
      ],
      "text/plain": [
       "<IPython.core.display.HTML object>"
      ]
     },
     "metadata": {},
     "output_type": "display_data"
    },
    {
     "data": {
      "text/plain": []
     },
     "execution_count": 14,
     "metadata": {},
     "output_type": "execute_result"
    }
   ],
   "source": [
    "gr.ChatInterface(fn=chat, type=\"messages\").launch()"
   ]
  },
  {
   "cell_type": "code",
   "execution_count": null,
   "id": "0a987a66-1061-46d6-a83a-a30859dc88bf",
   "metadata": {},
   "outputs": [],
   "source": [
    "def chat(message, history):\n",
    "    messages = [{\"role\": \"system\", \"content\": system_message}] + history + [{\"role\": \"user\", \"content\": message}]\n",
    "\n",
    "    if 'cinturon' in message:\n",
    "        messages.append({\"role\": \"system\", \"content\": \"Para mayor contexto, la tienda no vende cinturones,\\\n",
    "        pero asegúrate de señalar otros artículos en oferta.\"})\n",
    "    \n",
    "    messages.append({\"role\": \"user\", \"content\": message})\n",
    "\n",
    "    stream = openai.chat.completions.create(model=MODEL, messages=messages, stream=True)\n",
    "\n",
    "    response = \"\"\n",
    "    for chunk in stream:\n",
    "        response += chunk.choices[0].delta.content or ''\n",
    "        yield response"
   ]
  },
  {
   "cell_type": "code",
   "execution_count": null,
   "id": "20570de2-eaad-42cc-a92c-c779d71b48b6",
   "metadata": {},
   "outputs": [],
   "source": [
    "gr.ChatInterface(fn=chat, type=\"messages\").launch()"
   ]
  },
  {
   "cell_type": "code",
   "execution_count": null,
   "id": "6dfb9e21-df67-4c2b-b952-5e7e7961b03d",
   "metadata": {},
   "outputs": [],
   "source": []
  }
 ],
 "metadata": {
  "kernelspec": {
   "display_name": "Python 3 (ipykernel)",
   "language": "python",
   "name": "python3"
  },
  "language_info": {
   "codemirror_mode": {
    "name": "ipython",
    "version": 3
   },
   "file_extension": ".py",
   "mimetype": "text/x-python",
   "name": "python",
   "nbconvert_exporter": "python",
   "pygments_lexer": "ipython3",
   "version": "3.11.11"
  }
 },
 "nbformat": 4,
 "nbformat_minor": 5
}
